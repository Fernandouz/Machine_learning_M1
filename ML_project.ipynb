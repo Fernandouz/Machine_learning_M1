{
 "cells": [
  {
   "cell_type": "code",
   "id": "initial_id",
   "metadata": {
    "collapsed": true,
    "ExecuteTime": {
     "end_time": "2025-06-20T09:13:56.422419Z",
     "start_time": "2025-06-20T09:13:56.419068Z"
    }
   },
   "source": "import polars as pl",
   "outputs": [],
   "execution_count": 48
  },
  {
   "metadata": {
    "ExecuteTime": {
     "end_time": "2025-06-20T09:13:56.505032Z",
     "start_time": "2025-06-20T09:13:56.442418Z"
    }
   },
   "cell_type": "code",
   "source": "df = pl.read_csv('tlse_raw_data.csv', ignore_errors=True)",
   "id": "361f359482bcc1ab",
   "outputs": [],
   "execution_count": 49
  },
  {
   "metadata": {},
   "cell_type": "markdown",
   "source": [
    "# Analyse statistique des colonnes pour la sélection des features pertinentes\n",
    "\n",
    "On utilise les outils présent sur Pycharm afin d'avoir une vue d'ensemble du contenu des colonnes du dataset\n",
    "\n",
    "<img alt=\"&#39;stats&#39;\" src=\"stat_features.png\"/>\n"
   ],
   "id": "2925b37939e84d3d"
  },
  {
   "metadata": {
    "ExecuteTime": {
     "end_time": "2025-06-20T09:13:56.542513Z",
     "start_time": "2025-06-20T09:13:56.511515Z"
    }
   },
   "cell_type": "code",
   "source": [
    "df = (\n",
    "    df\n",
    "    .filter(\n",
    "        pl.col(\"nature_mutation\") == \"Vente\",\n",
    "        pl.col(\"type_local\").is_not_null(),\n",
    "        # On supprime les dépendance car manque de data et sa perturbre l'entrainement\n",
    "        pl.col(\"type_local\").is_in([\"Appartement\", \"Maison\"])\n",
    "    )\n",
    "    .select(\n",
    "        \"id_mutation\",\n",
    "        pl.col(\"date_mutation\").str.strptime(pl.Date, format=\"%Y-%m-%d\", strict=False),\n",
    "        \"numero_disposition\",\n",
    "        \"valeur_fonciere\",\n",
    "        \"adresse_nom_voie\",\n",
    "        \"adresse_code_voie\",\n",
    "        \"code_postal\",\n",
    "        \"type_local\",\n",
    "        \"code_type_local\",\n",
    "        \"surface_reelle_bati\",\n",
    "        \"nombre_pieces_principales\",\n",
    "        \"longitude\",\n",
    "        \"latitude\",\n",
    "        pl.col(\"section_prefixe\").str.slice(0,3),\n",
    "        \"nombre_lots\"\n",
    "    )\n",
    "    .with_columns([\n",
    "    pl.col(\"date_mutation\").dt.year().alias(\"annee_mutation\"),\n",
    "    pl.col(\"date_mutation\").dt.month().alias(\"mois_mutation\"),\n",
    "    pl.col(\"date_mutation\").dt.day().alias(\"jour_mutation\"),\n",
    "    pl.col(\"date_mutation\").dt.weekday().alias(\"jour_sem_mutation\"),\n",
    "    ])\n",
    ")"
   ],
   "id": "dafc2fc4bc5dcd77",
   "outputs": [],
   "execution_count": 50
  },
  {
   "metadata": {
    "ExecuteTime": {
     "end_time": "2025-06-20T09:13:56.556036Z",
     "start_time": "2025-06-20T09:13:56.548907Z"
    }
   },
   "cell_type": "code",
   "source": [
    "# Suppresion des valeures abérantes au niveau du prix et de la superficie\n",
    "q_low = df.select(pl.col(\"valeur_fonciere\").quantile(0.05)).item()\n",
    "q_high = df.select(pl.col(\"valeur_fonciere\").quantile(0.95)).item()\n",
    "\n",
    "df_clean = df.filter(\n",
    "    (pl.col(\"valeur_fonciere\") >= q_low) &\n",
    "    (pl.col(\"valeur_fonciere\") <= q_high),\n",
    "    pl.col(\"surface_reelle_bati\") > 9\n",
    ")"
   ],
   "id": "e6a1d4c9a45316",
   "outputs": [],
   "execution_count": 51
  },
  {
   "metadata": {
    "ExecuteTime": {
     "end_time": "2025-06-20T09:13:56.578174Z",
     "start_time": "2025-06-20T09:13:56.573454Z"
    }
   },
   "cell_type": "code",
   "source": "df_clean",
   "id": "529cdf3b313f6f3",
   "outputs": [
    {
     "data": {
      "text/plain": [
       "shape: (45_458, 19)\n",
       "┌───────────┬───────────┬───────────┬───────────┬───┬───────────┬───────────┬───────────┬──────────┐\n",
       "│ id_mutati ┆ date_muta ┆ numero_di ┆ valeur_fo ┆ … ┆ annee_mut ┆ mois_muta ┆ jour_muta ┆ jour_sem │\n",
       "│ on        ┆ tion      ┆ sposition ┆ nciere    ┆   ┆ ation     ┆ tion      ┆ tion      ┆ _mutatio │\n",
       "│ ---       ┆ ---       ┆ ---       ┆ ---       ┆   ┆ ---       ┆ ---       ┆ ---       ┆ n        │\n",
       "│ str       ┆ date      ┆ i64       ┆ f64       ┆   ┆ i32       ┆ i8        ┆ i8        ┆ ---      │\n",
       "│           ┆           ┆           ┆           ┆   ┆           ┆           ┆           ┆ i8       │\n",
       "╞═══════════╪═══════════╪═══════════╪═══════════╪═══╪═══════════╪═══════════╪═══════════╪══════════╡\n",
       "│ 2022-4693 ┆ 2022-09-0 ┆ 1         ┆ 235693.0  ┆ … ┆ 2022      ┆ 9         ┆ 2         ┆ 5        │\n",
       "│ 05        ┆ 2         ┆           ┆           ┆   ┆           ┆           ┆           ┆          │\n",
       "│ 2022-4697 ┆ 2022-08-3 ┆ 1         ┆ 90000.0   ┆ … ┆ 2022      ┆ 8         ┆ 31        ┆ 3        │\n",
       "│ 76        ┆ 1         ┆           ┆           ┆   ┆           ┆           ┆           ┆          │\n",
       "│ 2022-4497 ┆ 2022-01-0 ┆ 1         ┆ 490952.0  ┆ … ┆ 2022      ┆ 1         ┆ 4         ┆ 2        │\n",
       "│ 60        ┆ 4         ┆           ┆           ┆   ┆           ┆           ┆           ┆          │\n",
       "│ 2022-4497 ┆ 2022-01-0 ┆ 1         ┆ 377650.0  ┆ … ┆ 2022      ┆ 1         ┆ 3         ┆ 1        │\n",
       "│ 64        ┆ 3         ┆           ┆           ┆   ┆           ┆           ┆           ┆          │\n",
       "│ 2022-4497 ┆ 2022-01-0 ┆ 1         ┆ 164200.0  ┆ … ┆ 2022      ┆ 1         ┆ 5         ┆ 3        │\n",
       "│ 71        ┆ 5         ┆           ┆           ┆   ┆           ┆           ┆           ┆          │\n",
       "│ …         ┆ …         ┆ …         ┆ …         ┆ … ┆ …         ┆ …         ┆ …         ┆ …        │\n",
       "│ 2021-4873 ┆ 2021-12-1 ┆ 1         ┆ 139400.0  ┆ … ┆ 2021      ┆ 12        ┆ 14        ┆ 2        │\n",
       "│ 86        ┆ 4         ┆           ┆           ┆   ┆           ┆           ┆           ┆          │\n",
       "│ 2021-4873 ┆ 2021-10-1 ┆ 1         ┆ 290000.0  ┆ … ┆ 2021      ┆ 10        ┆ 19        ┆ 2        │\n",
       "│ 97        ┆ 9         ┆           ┆           ┆   ┆           ┆           ┆           ┆          │\n",
       "│ 2021-4873 ┆ 2021-10-1 ┆ 1         ┆ 290000.0  ┆ … ┆ 2021      ┆ 10        ┆ 19        ┆ 2        │\n",
       "│ 97        ┆ 9         ┆           ┆           ┆   ┆           ┆           ┆           ┆          │\n",
       "│ 2021-4874 ┆ 2021-10-2 ┆ 1         ┆ 137312.0  ┆ … ┆ 2021      ┆ 10        ┆ 27        ┆ 3        │\n",
       "│ 06        ┆ 7         ┆           ┆           ┆   ┆           ┆           ┆           ┆          │\n",
       "│ 2021-4874 ┆ 2021-03-1 ┆ 1         ┆ 101900.0  ┆ … ┆ 2021      ┆ 3         ┆ 19        ┆ 5        │\n",
       "│ 07        ┆ 9         ┆           ┆           ┆   ┆           ┆           ┆           ┆          │\n",
       "└───────────┴───────────┴───────────┴───────────┴───┴───────────┴───────────┴───────────┴──────────┘"
      ],
      "text/html": [
       "<div><style>\n",
       ".dataframe > thead > tr,\n",
       ".dataframe > tbody > tr {\n",
       "  text-align: right;\n",
       "  white-space: pre-wrap;\n",
       "}\n",
       "</style>\n",
       "<small>shape: (45_458, 19)</small><table border=\"1\" class=\"dataframe\"><thead><tr><th>id_mutation</th><th>date_mutation</th><th>numero_disposition</th><th>valeur_fonciere</th><th>adresse_nom_voie</th><th>adresse_code_voie</th><th>code_postal</th><th>type_local</th><th>code_type_local</th><th>surface_reelle_bati</th><th>nombre_pieces_principales</th><th>longitude</th><th>latitude</th><th>section_prefixe</th><th>nombre_lots</th><th>annee_mutation</th><th>mois_mutation</th><th>jour_mutation</th><th>jour_sem_mutation</th></tr><tr><td>str</td><td>date</td><td>i64</td><td>f64</td><td>str</td><td>str</td><td>i64</td><td>str</td><td>i64</td><td>f64</td><td>i64</td><td>f64</td><td>f64</td><td>str</td><td>i64</td><td>i32</td><td>i8</td><td>i8</td><td>i8</td></tr></thead><tbody><tr><td>&quot;2022-469305&quot;</td><td>2022-09-02</td><td>1</td><td>235693.0</td><td>&quot;AV MAIGNAN&quot;</td><td>&quot;5512&quot;</td><td>31200</td><td>&quot;Appartement&quot;</td><td>2</td><td>78.0</td><td>3</td><td>1.43473</td><td>43.616526</td><td>&quot;802&quot;</td><td>1</td><td>2022</td><td>9</td><td>2</td><td>5</td></tr><tr><td>&quot;2022-469776&quot;</td><td>2022-08-31</td><td>1</td><td>90000.0</td><td>&quot;RUE JACQUELINE AURIOL&quot;</td><td>&quot;4434&quot;</td><td>31400</td><td>&quot;Appartement&quot;</td><td>2</td><td>24.0</td><td>1</td><td>null</td><td>null</td><td>&quot;837&quot;</td><td>1</td><td>2022</td><td>8</td><td>31</td><td>3</td></tr><tr><td>&quot;2022-449760&quot;</td><td>2022-01-04</td><td>1</td><td>490952.0</td><td>&quot;BD LAZARE CARNOT&quot;</td><td>&quot;5132&quot;</td><td>31000</td><td>&quot;Appartement&quot;</td><td>2</td><td>90.0</td><td>4</td><td>1.452051</td><td>43.602981</td><td>&quot;821&quot;</td><td>2</td><td>2022</td><td>1</td><td>4</td><td>2</td></tr><tr><td>&quot;2022-449764&quot;</td><td>2022-01-03</td><td>1</td><td>377650.0</td><td>&quot;RUE DES TROENES&quot;</td><td>&quot;8588&quot;</td><td>31200</td><td>&quot;Maison&quot;</td><td>1</td><td>109.0</td><td>6</td><td>1.414822</td><td>43.616255</td><td>&quot;829&quot;</td><td>0</td><td>2022</td><td>1</td><td>3</td><td>1</td></tr><tr><td>&quot;2022-449771&quot;</td><td>2022-01-05</td><td>1</td><td>164200.0</td><td>&quot;CHEM DU DOCTEUR DIDIER DASQUE&quot;</td><td>&quot;2693&quot;</td><td>31400</td><td>&quot;Appartement&quot;</td><td>2</td><td>70.0</td><td>3</td><td>1.45283</td><td>43.554988</td><td>&quot;839&quot;</td><td>1</td><td>2022</td><td>1</td><td>5</td><td>3</td></tr><tr><td>&hellip;</td><td>&hellip;</td><td>&hellip;</td><td>&hellip;</td><td>&hellip;</td><td>&hellip;</td><td>&hellip;</td><td>&hellip;</td><td>&hellip;</td><td>&hellip;</td><td>&hellip;</td><td>&hellip;</td><td>&hellip;</td><td>&hellip;</td><td>&hellip;</td><td>&hellip;</td><td>&hellip;</td><td>&hellip;</td><td>&hellip;</td></tr><tr><td>&quot;2021-487386&quot;</td><td>2021-12-14</td><td>1</td><td>139400.0</td><td>&quot;RUE DES CEDRES&quot;</td><td>&quot;1816&quot;</td><td>31400</td><td>&quot;Appartement&quot;</td><td>2</td><td>57.0</td><td>3</td><td>1.456801</td><td>43.571702</td><td>&quot;838&quot;</td><td>2</td><td>2021</td><td>12</td><td>14</td><td>2</td></tr><tr><td>&quot;2021-487397&quot;</td><td>2021-10-19</td><td>1</td><td>290000.0</td><td>&quot;RUE DE NEGRENEYS&quot;</td><td>&quot;6236&quot;</td><td>31200</td><td>&quot;Appartement&quot;</td><td>2</td><td>56.0</td><td>3</td><td>1.440515</td><td>43.6168</td><td>&quot;803&quot;</td><td>1</td><td>2021</td><td>10</td><td>19</td><td>2</td></tr><tr><td>&quot;2021-487397&quot;</td><td>2021-10-19</td><td>1</td><td>290000.0</td><td>&quot;RUE DU PROF JAMMES&quot;</td><td>&quot;7152&quot;</td><td>31200</td><td>&quot;Appartement&quot;</td><td>2</td><td>58.0</td><td>3</td><td>1.440515</td><td>43.6168</td><td>&quot;803&quot;</td><td>1</td><td>2021</td><td>10</td><td>19</td><td>2</td></tr><tr><td>&quot;2021-487406&quot;</td><td>2021-10-27</td><td>1</td><td>137312.0</td><td>&quot;IMP DE BEAUCAIRE&quot;</td><td>&quot;0954&quot;</td><td>31500</td><td>&quot;Appartement&quot;</td><td>2</td><td>72.0</td><td>3</td><td>1.464742</td><td>43.628267</td><td>&quot;833&quot;</td><td>1</td><td>2021</td><td>10</td><td>27</td><td>3</td></tr><tr><td>&quot;2021-487407&quot;</td><td>2021-03-19</td><td>1</td><td>101900.0</td><td>&quot;IMP DE BEAUCAIRE&quot;</td><td>&quot;0954&quot;</td><td>31500</td><td>&quot;Appartement&quot;</td><td>2</td><td>55.0</td><td>2</td><td>1.464742</td><td>43.628267</td><td>&quot;833&quot;</td><td>1</td><td>2021</td><td>3</td><td>19</td><td>5</td></tr></tbody></table></div>"
      ]
     },
     "execution_count": 52,
     "metadata": {},
     "output_type": "execute_result"
    }
   ],
   "execution_count": 52
  },
  {
   "metadata": {
    "ExecuteTime": {
     "end_time": "2025-06-20T09:13:56.732951Z",
     "start_time": "2025-06-20T09:13:56.727266Z"
    }
   },
   "cell_type": "code",
   "source": "df[\"type_local\"].unique().to_list()",
   "id": "4bfabb86c55edea6",
   "outputs": [
    {
     "data": {
      "text/plain": [
       "['Maison', 'Appartement']"
      ]
     },
     "execution_count": 53,
     "metadata": {},
     "output_type": "execute_result"
    }
   ],
   "execution_count": 53
  },
  {
   "metadata": {
    "ExecuteTime": {
     "end_time": "2025-06-20T09:13:56.839952Z",
     "start_time": "2025-06-20T09:13:56.838533Z"
    }
   },
   "cell_type": "code",
   "source": [
    "import pandas as pd\n",
    "import seaborn as sns\n",
    "import matplotlib.pyplot as plt\n",
    "\n",
    "correlation_matrix = df.to_pandas().corr()\n",
    "plt.figure(figsize=(12, 10))\n",
    "sns.heatmap(correlation_matrix, annot=True, cmap=\"coolwarm\", fmt=\".2f\")\n",
    "plt.title(\"Matrice de corrélation\")\n",
    "plt.show()"
   ],
   "id": "46d34d3d7e9fdf61",
   "outputs": [],
   "execution_count": null
  },
  {
   "metadata": {
    "ExecuteTime": {
     "end_time": "2025-06-20T09:13:56.921426Z",
     "start_time": "2025-06-20T09:13:56.914231Z"
    }
   },
   "cell_type": "code",
   "source": "df = df.sample(fraction=1.0, shuffle=True, seed=42)",
   "id": "2c3d118f6f5813b0",
   "outputs": [],
   "execution_count": 54
  }
 ],
 "metadata": {
  "kernelspec": {
   "display_name": "Python 3",
   "language": "python",
   "name": "python3"
  },
  "language_info": {
   "codemirror_mode": {
    "name": "ipython",
    "version": 2
   },
   "file_extension": ".py",
   "mimetype": "text/x-python",
   "name": "python",
   "nbconvert_exporter": "python",
   "pygments_lexer": "ipython2",
   "version": "2.7.6"
  }
 },
 "nbformat": 4,
 "nbformat_minor": 5
}
